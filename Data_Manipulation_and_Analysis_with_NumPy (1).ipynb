{
  "cells": [
    {
      "cell_type": "markdown",
      "id": "f87e66c1",
      "metadata": {
        "id": "f87e66c1"
      },
      "source": [
        "## Data Manipulation and Analysis with NumPy\n",
        "\n",
        "**Definition:** NumPy is a fundamental package for scientific computing with Python. It provides support for arrays, matrices, and a large collection of mathematical functions to operate on these data structures. NumPy arrays are more efficient and provide better performance for numerical operations compared to Python's built-in lists.\n",
        "\n",
        "**Use Case in Real Life:** NumPy can be used in various scientific computing scenarios, such as statistical analysis, signal processing, and image processing."
      ]
    },
    {
      "cell_type": "markdown",
      "id": "d888e556",
      "metadata": {
        "id": "d888e556"
      },
      "source": [
        "### Creating a NumPy Array from a List"
      ]
    },
    {
      "cell_type": "code",
      "source": [
        "pip install numpy"
      ],
      "metadata": {
        "colab": {
          "base_uri": "https://localhost:8080/"
        },
        "id": "6XfLZ5ESZtV4",
        "outputId": "66523103-12a6-485b-d0f1-a88269e12ecb"
      },
      "id": "6XfLZ5ESZtV4",
      "execution_count": 27,
      "outputs": [
        {
          "output_type": "stream",
          "name": "stdout",
          "text": [
            "Requirement already satisfied: numpy in /usr/local/lib/python3.10/dist-packages (1.25.2)\n"
          ]
        }
      ]
    },
    {
      "cell_type": "code",
      "execution_count": 1,
      "id": "d282ea3b",
      "metadata": {
        "id": "d282ea3b",
        "colab": {
          "base_uri": "https://localhost:8080/"
        },
        "outputId": "263b6a55-7201-44a9-fb30-06665a36a8bb"
      },
      "outputs": [
        {
          "output_type": "stream",
          "name": "stdout",
          "text": [
            "[1 2 3 4 5]\n",
            "[[1 2 3]\n",
            " [4 5 6]]\n"
          ]
        }
      ],
      "source": [
        "import numpy as np\n",
        "\n",
        "# Creating a 1D array from a list\n",
        "arr1 = np.array([1, 2, 3, 4, 5])\n",
        "print(arr1)\n",
        "\n",
        "# Creating a 2D array from a list of lists\n",
        "arr2 = np.array([[1, 2, 3], [4, 5, 6]])\n",
        "print(arr2)"
      ]
    },
    {
      "cell_type": "markdown",
      "id": "13db8600",
      "metadata": {
        "id": "13db8600"
      },
      "source": [
        "### Creating Arrays with Functions"
      ]
    },
    {
      "cell_type": "code",
      "execution_count": 2,
      "id": "dbef3ccc",
      "metadata": {
        "id": "dbef3ccc",
        "colab": {
          "base_uri": "https://localhost:8080/"
        },
        "outputId": "6e1134e6-064b-4e28-fec2-8418338ffc29"
      },
      "outputs": [
        {
          "output_type": "stream",
          "name": "stdout",
          "text": [
            "[[0. 0. 0. 0.]\n",
            " [0. 0. 0. 0.]\n",
            " [0. 0. 0. 0.]]\n"
          ]
        }
      ],
      "source": [
        "# Creating an array of zeros\n",
        "zeros = np.zeros((3, 4))\n",
        "print(zeros)"
      ]
    },
    {
      "cell_type": "code",
      "execution_count": 3,
      "id": "1d8e5efc",
      "metadata": {
        "id": "1d8e5efc",
        "colab": {
          "base_uri": "https://localhost:8080/"
        },
        "outputId": "f3dfacf7-d1e8-4fcb-97cc-f4857cc943e6"
      },
      "outputs": [
        {
          "output_type": "stream",
          "name": "stdout",
          "text": [
            "[[1. 1. 1.]\n",
            " [1. 1. 1.]]\n"
          ]
        }
      ],
      "source": [
        "# Creating an array of ones\n",
        "ones = np.ones((2, 3))\n",
        "print(ones)"
      ]
    },
    {
      "cell_type": "code",
      "execution_count": 4,
      "id": "fdac59ce",
      "metadata": {
        "id": "fdac59ce",
        "colab": {
          "base_uri": "https://localhost:8080/"
        },
        "outputId": "6052e623-7e34-4de8-e1d6-65c7e7ef231f"
      },
      "outputs": [
        {
          "output_type": "stream",
          "name": "stdout",
          "text": [
            "[10 12 14 16 18]\n"
          ]
        }
      ],
      "source": [
        "# Creating an array with a range of values\n",
        "range_arr = np.arange(10, 20, 2)\n",
        "print(range_arr)"
      ]
    },
    {
      "cell_type": "code",
      "execution_count": 29,
      "id": "ef2086ef",
      "metadata": {
        "id": "ef2086ef",
        "colab": {
          "base_uri": "https://localhost:8080/"
        },
        "outputId": "62a87c56-eda1-4ffe-fc62-64c5eff2dfab"
      },
      "outputs": [
        {
          "output_type": "stream",
          "name": "stdout",
          "text": [
            "[[0.19239396 0.78458601 0.45453701]\n",
            " [0.28580424 0.78197998 0.94837409]\n",
            " [0.79865136 0.86638824 0.45441141]]\n"
          ]
        }
      ],
      "source": [
        "# Creating an array with random values\n",
        "random_arr = np.random.rand(3, 3)\n",
        "print(random_arr)"
      ]
    },
    {
      "cell_type": "markdown",
      "id": "716eb93a",
      "metadata": {
        "id": "716eb93a"
      },
      "source": [
        "### Basic Array Operations - Element-wise Operations"
      ]
    },
    {
      "cell_type": "code",
      "source": [
        "arr1"
      ],
      "metadata": {
        "colab": {
          "base_uri": "https://localhost:8080/"
        },
        "id": "jNOoy_j5gEbH",
        "outputId": "7b3ead72-d471-4c9c-c626-73c15f8d6c61"
      },
      "id": "jNOoy_j5gEbH",
      "execution_count": 31,
      "outputs": [
        {
          "output_type": "execute_result",
          "data": {
            "text/plain": [
              "array([1, 2, 3, 4, 5])"
            ]
          },
          "metadata": {},
          "execution_count": 31
        }
      ]
    },
    {
      "cell_type": "code",
      "source": [
        "for i in arr1:\n",
        "  print(i+2)"
      ],
      "metadata": {
        "colab": {
          "base_uri": "https://localhost:8080/"
        },
        "id": "Ii8v8tW4gVfW",
        "outputId": "ae26d399-fea6-4fd3-fd40-449530b572df"
      },
      "id": "Ii8v8tW4gVfW",
      "execution_count": 35,
      "outputs": [
        {
          "output_type": "stream",
          "name": "stdout",
          "text": [
            "3\n",
            "4\n",
            "5\n",
            "6\n",
            "7\n"
          ]
        }
      ]
    },
    {
      "cell_type": "code",
      "execution_count": 6,
      "id": "9991cb81",
      "metadata": {
        "id": "9991cb81",
        "colab": {
          "base_uri": "https://localhost:8080/"
        },
        "outputId": "503e3770-e55c-4c2a-f7b5-073d7a4668fa"
      },
      "outputs": [
        {
          "output_type": "stream",
          "name": "stdout",
          "text": [
            "[3 4 5 6 7]\n"
          ]
        }
      ],
      "source": [
        "arr = np.array([1, 2, 3, 4, 5])\n",
        "\n",
        "# Element-wise addition\n",
        "print(arr + 2)"
      ]
    },
    {
      "cell_type": "code",
      "execution_count": 7,
      "id": "f287c994",
      "metadata": {
        "id": "f287c994",
        "colab": {
          "base_uri": "https://localhost:8080/"
        },
        "outputId": "b26f36c4-9f8f-4937-acce-84f00d94ca1b"
      },
      "outputs": [
        {
          "output_type": "stream",
          "name": "stdout",
          "text": [
            "[ 2  4  6  8 10]\n"
          ]
        }
      ],
      "source": [
        "# Element-wise multiplication\n",
        "print(arr * 2)"
      ]
    },
    {
      "cell_type": "code",
      "execution_count": 8,
      "id": "a959751f",
      "metadata": {
        "id": "a959751f",
        "colab": {
          "base_uri": "https://localhost:8080/"
        },
        "outputId": "e64977cf-a861-4f7f-890b-05dd266afe6e"
      },
      "outputs": [
        {
          "output_type": "stream",
          "name": "stdout",
          "text": [
            "[0 1 2 3 4]\n"
          ]
        }
      ],
      "source": [
        "# Element-wise subtraction\n",
        "print(arr - 1)"
      ]
    },
    {
      "cell_type": "code",
      "execution_count": 9,
      "id": "9eea74fc",
      "metadata": {
        "id": "9eea74fc",
        "colab": {
          "base_uri": "https://localhost:8080/"
        },
        "outputId": "7b22a87a-83ae-46ba-d301-f8c0b812b1a7"
      },
      "outputs": [
        {
          "output_type": "stream",
          "name": "stdout",
          "text": [
            "[0.5 1.  1.5 2.  2.5]\n"
          ]
        }
      ],
      "source": [
        "# Element-wise division\n",
        "print(arr / 2)"
      ]
    },
    {
      "cell_type": "markdown",
      "id": "6e026b53",
      "metadata": {
        "id": "6e026b53"
      },
      "source": [
        "### Basic Array Operations - Mathematical Functions"
      ]
    },
    {
      "cell_type": "code",
      "execution_count": 10,
      "id": "541e8f4e",
      "metadata": {
        "id": "541e8f4e",
        "colab": {
          "base_uri": "https://localhost:8080/"
        },
        "outputId": "d704c4f0-741f-4b9b-f44e-9feaf64577f4"
      },
      "outputs": [
        {
          "output_type": "stream",
          "name": "stdout",
          "text": [
            "[1.         1.41421356 1.73205081 2.         2.23606798]\n"
          ]
        }
      ],
      "source": [
        "arr = np.array([1, 2, 3, 4, 5])\n",
        "\n",
        "# Square root\n",
        "print(np.sqrt(arr))"
      ]
    },
    {
      "cell_type": "code",
      "execution_count": 11,
      "id": "9f4ed368",
      "metadata": {
        "id": "9f4ed368",
        "colab": {
          "base_uri": "https://localhost:8080/"
        },
        "outputId": "d4baa68c-a316-453e-908a-acdadc4196ef"
      },
      "outputs": [
        {
          "output_type": "stream",
          "name": "stdout",
          "text": [
            "[  2.71828183   7.3890561   20.08553692  54.59815003 148.4131591 ]\n"
          ]
        }
      ],
      "source": [
        "# Exponential\n",
        "print(np.exp(arr))"
      ]
    },
    {
      "cell_type": "code",
      "execution_count": 12,
      "id": "4355abf5",
      "metadata": {
        "id": "4355abf5",
        "colab": {
          "base_uri": "https://localhost:8080/"
        },
        "outputId": "611cf897-7715-4e57-adbd-3cb489e740bb"
      },
      "outputs": [
        {
          "output_type": "stream",
          "name": "stdout",
          "text": [
            "[0.         0.69314718 1.09861229 1.38629436 1.60943791]\n"
          ]
        }
      ],
      "source": [
        "# Logarithm\n",
        "print(np.log(arr))"
      ]
    },
    {
      "cell_type": "code",
      "execution_count": 13,
      "id": "760b7dc4",
      "metadata": {
        "id": "760b7dc4",
        "colab": {
          "base_uri": "https://localhost:8080/"
        },
        "outputId": "4556dd19-06de-43b4-ffff-9ed1f1bb6500"
      },
      "outputs": [
        {
          "output_type": "stream",
          "name": "stdout",
          "text": [
            "[ 0.84147098  0.90929743  0.14112001 -0.7568025  -0.95892427]\n"
          ]
        }
      ],
      "source": [
        "# Sine\n",
        "print(np.sin(arr))"
      ]
    },
    {
      "cell_type": "markdown",
      "id": "12b75f26",
      "metadata": {
        "id": "12b75f26"
      },
      "source": [
        "### Indexing and Slicing - Indexing"
      ]
    },
    {
      "cell_type": "code",
      "execution_count": 14,
      "id": "4357d98f",
      "metadata": {
        "id": "4357d98f",
        "colab": {
          "base_uri": "https://localhost:8080/"
        },
        "outputId": "fc676a64-de61-4757-a0e6-b7831d1ef723"
      },
      "outputs": [
        {
          "output_type": "stream",
          "name": "stdout",
          "text": [
            "1\n",
            "5\n"
          ]
        }
      ],
      "source": [
        "arr = np.array([1, 2, 3, 4, 5])\n",
        "\n",
        "# Accessing elements\n",
        "print(arr[0])  # First element\n",
        "print(arr[-1]) # Last element"
      ]
    },
    {
      "cell_type": "markdown",
      "id": "ad8ca88d",
      "metadata": {
        "id": "ad8ca88d"
      },
      "source": [
        "### Indexing and Slicing - Slicing"
      ]
    },
    {
      "cell_type": "code",
      "execution_count": 15,
      "id": "c38bb8ef",
      "metadata": {
        "id": "c38bb8ef",
        "colab": {
          "base_uri": "https://localhost:8080/"
        },
        "outputId": "75b0fc1b-c58e-4a61-c5f7-66ba846d3398"
      },
      "outputs": [
        {
          "output_type": "stream",
          "name": "stdout",
          "text": [
            "[2 3 4]\n",
            "[1 2 3]\n",
            "[3 4 5]\n"
          ]
        }
      ],
      "source": [
        "arr = np.array([1, 2, 3, 4, 5])\n",
        "\n",
        "# Slicing array\n",
        "print(arr[1:4])  # Elements from index 1 to 3\n",
        "print(arr[:3])   # First three elements\n",
        "print(arr[2:])   # Elements from index 2 to the end"
      ]
    },
    {
      "cell_type": "markdown",
      "id": "006b596a",
      "metadata": {
        "id": "006b596a"
      },
      "source": [
        "### Indexing and Slicing - Advanced Indexing"
      ]
    },
    {
      "cell_type": "code",
      "execution_count": 16,
      "id": "f96df3d8",
      "metadata": {
        "id": "f96df3d8",
        "colab": {
          "base_uri": "https://localhost:8080/"
        },
        "outputId": "2106f4d1-01cf-4523-c6ce-19d8ab99eb74"
      },
      "outputs": [
        {
          "output_type": "stream",
          "name": "stdout",
          "text": [
            "[4 5]\n",
            "[1 3 5]\n"
          ]
        }
      ],
      "source": [
        "arr = np.array([1, 2, 3, 4, 5])\n",
        "\n",
        "# Boolean indexing\n",
        "print(arr[arr > 3])\n",
        "\n",
        "# Fancy indexing\n",
        "indices = [0, 2, 4]\n",
        "print(arr[indices])"
      ]
    },
    {
      "cell_type": "markdown",
      "id": "fa384820",
      "metadata": {
        "id": "fa384820"
      },
      "source": [
        "### Reshaping and Transposing - Reshaping Arrays"
      ]
    },
    {
      "cell_type": "code",
      "execution_count": 17,
      "id": "1f791693",
      "metadata": {
        "id": "1f791693",
        "colab": {
          "base_uri": "https://localhost:8080/"
        },
        "outputId": "be055ba3-33ab-4961-f6e5-b80a58d3b336"
      },
      "outputs": [
        {
          "output_type": "stream",
          "name": "stdout",
          "text": [
            "[[1 2]\n",
            " [3 4]\n",
            " [5 6]]\n"
          ]
        }
      ],
      "source": [
        "arr = np.array([[1, 2, 3], [4, 5, 6]])\n",
        "\n",
        "# Reshaping the array\n",
        "reshaped = arr.reshape((3, 2))\n",
        "print(reshaped)"
      ]
    },
    {
      "cell_type": "markdown",
      "id": "23828fb9",
      "metadata": {
        "id": "23828fb9"
      },
      "source": [
        "### Reshaping and Transposing - Transposing Arrays"
      ]
    },
    {
      "cell_type": "code",
      "execution_count": 18,
      "id": "978bb435",
      "metadata": {
        "id": "978bb435",
        "colab": {
          "base_uri": "https://localhost:8080/"
        },
        "outputId": "3b25e486-fdf3-47be-c2b4-c26b602459aa"
      },
      "outputs": [
        {
          "output_type": "stream",
          "name": "stdout",
          "text": [
            "[[1 4]\n",
            " [2 5]\n",
            " [3 6]]\n"
          ]
        }
      ],
      "source": [
        "arr = np.array([[1, 2, 3], [4, 5, 6]])\n",
        "\n",
        "# Transposing the array\n",
        "transposed = arr.T\n",
        "print(transposed)"
      ]
    },
    {
      "cell_type": "markdown",
      "id": "d960eeee",
      "metadata": {
        "id": "d960eeee"
      },
      "source": [
        "### Aggregation Functions - Sum and Mean"
      ]
    },
    {
      "cell_type": "code",
      "execution_count": 19,
      "id": "3e1ccf0b",
      "metadata": {
        "id": "3e1ccf0b",
        "colab": {
          "base_uri": "https://localhost:8080/"
        },
        "outputId": "397e4c78-8ab4-4c7e-bb4e-47a60c796ad7"
      },
      "outputs": [
        {
          "output_type": "stream",
          "name": "stdout",
          "text": [
            "21\n"
          ]
        }
      ],
      "source": [
        "arr = np.array([[1, 2, 3], [4, 5, 6]])\n",
        "\n",
        "# Sum of all elements\n",
        "print(np.sum(arr))"
      ]
    },
    {
      "cell_type": "code",
      "execution_count": 20,
      "id": "6deb3e24",
      "metadata": {
        "id": "6deb3e24",
        "colab": {
          "base_uri": "https://localhost:8080/"
        },
        "outputId": "c13a4038-48f7-4e51-f4d1-e8c293e70625"
      },
      "outputs": [
        {
          "output_type": "stream",
          "name": "stdout",
          "text": [
            "[5 7 9]\n"
          ]
        }
      ],
      "source": [
        "# Sum along columns\n",
        "print(np.sum(arr, axis=0))"
      ]
    },
    {
      "cell_type": "code",
      "execution_count": 21,
      "id": "442148bd",
      "metadata": {
        "id": "442148bd",
        "colab": {
          "base_uri": "https://localhost:8080/"
        },
        "outputId": "b3d4cc16-8016-487e-a44b-e2840526ef0e"
      },
      "outputs": [
        {
          "output_type": "stream",
          "name": "stdout",
          "text": [
            "[ 6 15]\n"
          ]
        }
      ],
      "source": [
        "# Sum along rows\n",
        "print(np.sum(arr, axis=1))"
      ]
    },
    {
      "cell_type": "code",
      "execution_count": 22,
      "id": "f23cb3c7",
      "metadata": {
        "id": "f23cb3c7",
        "colab": {
          "base_uri": "https://localhost:8080/"
        },
        "outputId": "6866be8e-b9bc-43ed-ce4c-15c8ffd4a457"
      },
      "outputs": [
        {
          "output_type": "stream",
          "name": "stdout",
          "text": [
            "3.5\n"
          ]
        }
      ],
      "source": [
        "# Mean of all elements\n",
        "print(np.mean(arr))"
      ]
    },
    {
      "cell_type": "markdown",
      "id": "dab4bf69",
      "metadata": {
        "id": "dab4bf69"
      },
      "source": [
        "### Aggregation Functions - Min and Max"
      ]
    },
    {
      "cell_type": "code",
      "execution_count": 23,
      "id": "31304210",
      "metadata": {
        "id": "31304210",
        "colab": {
          "base_uri": "https://localhost:8080/"
        },
        "outputId": "9d633748-6ea0-43fa-968c-9aa41fe4b7aa"
      },
      "outputs": [
        {
          "output_type": "stream",
          "name": "stdout",
          "text": [
            "1\n"
          ]
        }
      ],
      "source": [
        "arr = np.array([[1, 2, 3], [4, 5, 6]])\n",
        "\n",
        "# Minimum value\n",
        "print(np.min(arr))"
      ]
    },
    {
      "cell_type": "code",
      "execution_count": 24,
      "id": "f0d50bae",
      "metadata": {
        "id": "f0d50bae",
        "colab": {
          "base_uri": "https://localhost:8080/"
        },
        "outputId": "0e4fee15-01f6-412a-815c-a4dc5506a0f5"
      },
      "outputs": [
        {
          "output_type": "stream",
          "name": "stdout",
          "text": [
            "6\n"
          ]
        }
      ],
      "source": [
        "# Maximum value\n",
        "print(np.max(arr))"
      ]
    },
    {
      "cell_type": "code",
      "execution_count": 25,
      "id": "c4683d5d",
      "metadata": {
        "id": "c4683d5d",
        "colab": {
          "base_uri": "https://localhost:8080/"
        },
        "outputId": "aa606c51-122e-4120-caa3-26c30d85792b"
      },
      "outputs": [
        {
          "output_type": "stream",
          "name": "stdout",
          "text": [
            "0\n"
          ]
        }
      ],
      "source": [
        "# Index of minimum value\n",
        "print(np.argmin(arr))"
      ]
    },
    {
      "cell_type": "code",
      "execution_count": 26,
      "id": "6effbfa6",
      "metadata": {
        "id": "6effbfa6",
        "colab": {
          "base_uri": "https://localhost:8080/"
        },
        "outputId": "95424e81-37c0-434d-b49f-48cc8549fe42"
      },
      "outputs": [
        {
          "output_type": "stream",
          "name": "stdout",
          "text": [
            "5\n"
          ]
        }
      ],
      "source": [
        "# Index of maximum value\n",
        "print(np.argmax(arr))"
      ]
    },
    {
      "cell_type": "markdown",
      "source": [
        "### Thank you"
      ],
      "metadata": {
        "id": "eINDT64FmcFt"
      },
      "id": "eINDT64FmcFt"
    }
  ],
  "metadata": {
    "colab": {
      "provenance": []
    },
    "language_info": {
      "name": "python"
    },
    "kernelspec": {
      "name": "python3",
      "display_name": "Python 3"
    }
  },
  "nbformat": 4,
  "nbformat_minor": 5
}