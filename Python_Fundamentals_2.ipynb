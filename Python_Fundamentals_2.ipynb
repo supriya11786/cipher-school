{
  "cells": [
    {
      "cell_type": "markdown",
      "id": "900299d7",
      "metadata": {
        "id": "900299d7"
      },
      "source": [
        "## Functions\n",
        "\n",
        "**Definition:** A function is a block of reusable code that performs a specific task. Functions help to modularize code, making it more organized and maintainable.\n",
        "\n",
        "**Use Case in Real Life:** Functions can be used to calculate the total price of items in a shopping cart, including tax and discounts. This keeps the code clean and organized by separating the calculation logic from the rest of the application."
      ]
    },
    {
      "cell_type": "code",
      "execution_count": null,
      "id": "25cd3afc",
      "metadata": {
        "id": "25cd3afc"
      },
      "outputs": [],
      "source": [
        "# Simple Function\n",
        "def add_numbers(a, b):\n",
        "    \"\"\"Function to add two numbers\"\"\"\n",
        "    return a + b\n",
        "\n",
        "# Calling the function\n",
        "print(add_numbers(3, 4))"
      ]
    },
    {
      "cell_type": "code",
      "execution_count": null,
      "id": "b157730d",
      "metadata": {
        "id": "b157730d"
      },
      "outputs": [],
      "source": [
        "# Function with Default Arguments\n",
        "def greet(name, message=\"Hello\"):\n",
        "    \"\"\"Function to greet a person with a default message\"\"\"\n",
        "    return f\"{message}, {name}!\"\n",
        "\n",
        "# Calling the function\n",
        "print(greet(\"Bob\"))\n",
        "print(greet(\"Alice\", \"Hi\"))"
      ]
    },
    {
      "cell_type": "code",
      "execution_count": null,
      "id": "9d011c6b",
      "metadata": {
        "id": "9d011c6b"
      },
      "outputs": [],
      "source": [
        "# Function with Variable-Length Arguments\n",
        "def sum_all(*args):\n",
        "    \"\"\"Function to sum all given arguments\"\"\"\n",
        "    return sum(args)\n",
        "\n",
        "# Calling the function\n",
        "print(sum_all(1, 2, 3, 4, 5))"
      ]
    },
    {
      "cell_type": "code",
      "execution_count": null,
      "id": "88d024f1",
      "metadata": {
        "id": "88d024f1"
      },
      "outputs": [],
      "source": [
        "# Function with Keyword Arguments\n",
        "def display_info(**kwargs):\n",
        "    \"\"\"Function to display information using keyword arguments\"\"\"\n",
        "    for key, value in kwargs.items():\n",
        "        print(f\"{key}: {value}\")\n",
        "\n",
        "# Calling the function\n",
        "display_info(name=\"John\", age=30, city=\"New York\")"
      ]
    },
    {
      "cell_type": "code",
      "execution_count": null,
      "id": "0315ab25",
      "metadata": {
        "id": "0315ab25"
      },
      "outputs": [],
      "source": [
        "# Higher-Order Function\n",
        "def apply_function(func, x, y):\n",
        "    \"\"\"Function to apply another function to given arguments\"\"\"\n",
        "    return func(x, y)\n",
        "\n",
        "def multiply(a, b):\n",
        "    return a * b\n",
        "\n",
        "# Calling the higher-order function\n",
        "print(apply_function(multiply, 6, 7))"
      ]
    },
    {
      "cell_type": "markdown",
      "id": "2e34e4a7",
      "metadata": {
        "id": "2e34e4a7"
      },
      "source": [
        "## Lambda Expressions\n",
        "\n",
        "**Definition:** Lambda expressions, also known as anonymous functions, are small, unnamed functions defined using the `lambda` keyword. They are often used for short, throwaway functions.\n",
        "\n",
        "**Use Case in Real Life:** Lambda expressions are commonly used in sorting algorithms where a custom sorting key is needed. For example, sorting a list of tuples by the second element can be achieved using a lambda function."
      ]
    },
    {
      "cell_type": "code",
      "execution_count": null,
      "id": "89fbb5fc",
      "metadata": {
        "id": "89fbb5fc"
      },
      "outputs": [],
      "source": [
        "# Simple Lambda Function\n",
        "square = lambda x: x * x\n",
        "\n",
        "# Calling the lambda function\n",
        "print(square(5))"
      ]
    },
    {
      "cell_type": "code",
      "execution_count": null,
      "id": "c72b2c89",
      "metadata": {
        "id": "c72b2c89"
      },
      "outputs": [],
      "source": [
        "# Lambda Function in `map`\n",
        "numbers = [1, 2, 3, 4, 5]\n",
        "squares = list(map(lambda x: x * x, numbers))\n",
        "\n",
        "# Displaying the result\n",
        "print(squares)"
      ]
    },
    {
      "cell_type": "code",
      "execution_count": null,
      "id": "6e4d9ea8",
      "metadata": {
        "id": "6e4d9ea8"
      },
      "outputs": [],
      "source": [
        "# Lambda Function in `filter`\n",
        "numbers = [1, 2, 3, 4, 5, 6]\n",
        "even_numbers = list(filter(lambda x: x % 2 == 0, numbers))\n",
        "\n",
        "# Displaying the result\n",
        "print(even_numbers)"
      ]
    },
    {
      "cell_type": "code",
      "execution_count": null,
      "id": "9b564709",
      "metadata": {
        "id": "9b564709"
      },
      "outputs": [],
      "source": [
        "# Lambda Function in `sorted`\n",
        "students = [(\"Alice\", 25), (\"Bob\", 20), (\"Charlie\", 23)]\n",
        "sorted_students = sorted(students, key=lambda student: student[1])\n",
        "\n",
        "# Displaying the result\n",
        "print(sorted_students)"
      ]
    },
    {
      "cell_type": "markdown",
      "id": "d6eecdbe",
      "metadata": {
        "id": "d6eecdbe"
      },
      "source": [
        "## Error Handling\n",
        "\n",
        "**Definition:** Error handling in Python is done using `try`, `except`, `else`, and `finally` blocks. It allows you to handle exceptions gracefully and ensure that the program continues to run.\n",
        "\n",
        "**Use Case in Real Life:** Error handling is crucial in web applications to handle unexpected situations, such as database connection errors or invalid user inputs. Proper error handling ensures that the application can provide meaningful error messages to users and recover from errors without crashing."
      ]
    },
    {
      "cell_type": "code",
      "execution_count": null,
      "id": "b1513d59",
      "metadata": {
        "id": "b1513d59"
      },
      "outputs": [],
      "source": [
        "# Basic Try-Except Block\n",
        "try:\n",
        "    # Code that may raise an exception\n",
        "    result = 10 / 0\n",
        "except ZeroDivisionError:\n",
        "    # Code to handle the exception\n",
        "    print(\"Cannot divide by zero!\")"
      ]
    },
    {
      "cell_type": "code",
      "execution_count": null,
      "id": "fafd109d",
      "metadata": {
        "id": "fafd109d"
      },
      "outputs": [],
      "source": [
        "# Try-Except-Else Block\n",
        "try:\n",
        "    # Code that may raise an exception\n",
        "    result = 10 / 2\n",
        "except ZeroDivisionError:\n",
        "    # Code to handle the exception\n",
        "    print(\"Cannot divide by zero!\")\n",
        "else:\n",
        "    # Code to run if no exception occurs\n",
        "    print(\"Division successful!\")"
      ]
    },
    {
      "cell_type": "code",
      "execution_count": null,
      "id": "c10d1612",
      "metadata": {
        "id": "c10d1612"
      },
      "outputs": [],
      "source": [
        "# Try-Except-Finally Block\n",
        "try:\n",
        "    # Code that may raise an exception\n",
        "    result = 10 / 2\n",
        "except ZeroDivisionError:\n",
        "    # Code to handle the exception\n",
        "    print(\"Cannot divide by zero!\")\n",
        "finally:\n",
        "    # Code to run regardless of whether an exception occurs\n",
        "    print(\"Execution completed.\")"
      ]
    },
    {
      "cell_type": "code",
      "execution_count": null,
      "id": "5de7c919",
      "metadata": {
        "id": "5de7c919"
      },
      "outputs": [],
      "source": [
        "# Handling Multiple Exceptions\n",
        "try:\n",
        "    # Code that may raise an exception\n",
        "    number = int(input(\"Enter a number: \"))\n",
        "    result = 10 / number\n",
        "except ValueError:\n",
        "    # Code to handle the exception\n",
        "    print(\"Invalid input! Please enter a number.\")\n",
        "except ZeroDivisionError:\n",
        "    # Code to handle the exception\n",
        "    print(\"Cannot divide by zero!\")"
      ]
    },
    {
      "cell_type": "code",
      "execution_count": null,
      "id": "15a3c596",
      "metadata": {
        "id": "15a3c596"
      },
      "outputs": [],
      "source": [
        "# Raising Exceptions\n",
        "def check_positive(number):\n",
        "    if number <= 0:\n",
        "        raise ValueError(\"Number must be positive\")\n",
        "\n",
        "try:\n",
        "    check_positive(-5)\n",
        "except ValueError as e:\n",
        "    print(e)"
      ]
    },
    {
      "cell_type": "markdown",
      "source": [
        "### Thank you"
      ],
      "metadata": {
        "id": "PDBa__s69uJx"
      },
      "id": "PDBa__s69uJx"
    }
  ],
  "metadata": {
    "colab": {
      "provenance": []
    }
  },
  "nbformat": 4,
  "nbformat_minor": 5
}