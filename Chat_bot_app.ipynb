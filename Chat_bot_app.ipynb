{
 "cells": [
  {
   "cell_type": "code",
   "execution_count": null,
   "metadata": {},
   "outputs": [
    {
     "name": "stdout",
     "output_type": "stream",
     "text": [
      " * Serving Flask app '__main__'\n",
      " * Debug mode: off\n"
     ]
    },
    {
     "name": "stderr",
     "output_type": "stream",
     "text": [
      "WARNING: This is a development server. Do not use it in a production deployment. Use a production WSGI server instead.\n",
      " * Running on all addresses (0.0.0.0)\n",
      " * Running on http://127.0.0.1:5000\n",
      " * Running on http://192.168.1.100:5000\n",
      "Press CTRL+C to quit\n",
      "127.0.0.1 - - [15/Feb/2025 08:47:09] \"GET / HTTP/1.1\" 200 -\n",
      "127.0.0.1 - - [15/Feb/2025 08:48:02] \"GET /chat?query=What%20is%20Seaborn? HTTP/1.1\" 200 -\n"
     ]
    }
   ],
   "source": [
    "import pandas as pd\n",
    "from flask import Flask, request, jsonify\n",
    "\n",
    "app = Flask(__name__)\n",
    "\n",
    "# Load CSV into DataFrame\n",
    "df = pd.read_csv('chatbot_dataset.csv')\n",
    "\n",
    "# Function to find the most relevant answer\n",
    "def chatbot_response(query):\n",
    "    query = query.strip().lower()\n",
    "    for _, row in df.iterrows():\n",
    "        if row['Question'].strip().lower() in query:\n",
    "            return row['Answer']\n",
    "    return \"Sorry, I don't understand that question.\"\n",
    "\n",
    "@app.route('/')\n",
    "def home():\n",
    "    return \"Welcome to the Data Science Chatbot! Use /chat?query=your_question to interact.\"\n",
    "\n",
    "@app.route('/chat', methods=['GET'])\n",
    "def chat():\n",
    "    try:\n",
    "        query = request.args.get('query')\n",
    "        if query:\n",
    "            response = chatbot_response(query)\n",
    "            return jsonify({'response': response})\n",
    "        else:\n",
    "            return jsonify({'error': 'Please provide a query using ?query=parameter'}), 400\n",
    "    except Exception as e:\n",
    "        return jsonify({'error': str(e)}), 500\n",
    "\n",
    "if __name__ == '__main__':\n",
    "    app.run(host='0.0.0.0', port=5000)\n"
   ]
  },
  {
   "cell_type": "code",
   "execution_count": null,
   "metadata": {},
   "outputs": [],
   "source": []
  }
 ],
 "metadata": {
  "colab": {
   "provenance": []
  },
  "kernelspec": {
   "display_name": "Python 3 (ipykernel)",
   "language": "python",
   "name": "python3"
  },
  "language_info": {
   "codemirror_mode": {
    "name": "ipython",
    "version": 3
   },
   "file_extension": ".py",
   "mimetype": "text/x-python",
   "name": "python",
   "nbconvert_exporter": "python",
   "pygments_lexer": "ipython3",
   "version": "3.10.14"
  }
 },
 "nbformat": 4,
 "nbformat_minor": 4
}
