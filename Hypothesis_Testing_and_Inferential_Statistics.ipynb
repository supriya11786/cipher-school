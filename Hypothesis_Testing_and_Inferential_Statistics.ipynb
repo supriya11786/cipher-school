{
 "cells": [
  {
   "cell_type": "markdown",
   "id": "dab18ad6",
   "metadata": {},
   "source": [
    "## Hypothesis Testing\n",
    "\n",
    "**Definition:**\n",
    "- Hypothesis testing is a statistical method used to make decisions about the population based on sample data. It involves testing an assumption (hypothesis) and determining whether to reject the null hypothesis.\n",
    "\n",
    "**Use Case:**\n",
    "- Hypothesis testing is used in clinical trials to determine whether a new treatment is effective. For example, comparing the mean recovery times of patients using a new drug versus a placebo."
   ]
  },
  {
   "cell_type": "code",
   "execution_count": null,
   "id": "1cb95709",
   "metadata": {},
   "outputs": [],
   "source": [
    "from scipy import stats\n",
    "\n",
    "# Sample data\n",
    "group1 = [2, 3, 5, 6, 9]\n",
    "group2 = [1, 4, 6, 8, 10]\n",
    "\n",
    "# T-test\n",
    "t_stat, p_val = stats.ttest_ind(group1, group2)\n",
    "print(\"T-statistic:\", t_stat)\n",
    "print(\"P-value:\", p_val)\n",
    "\n",
    "# Decision\n",
    "alpha = 0.05\n",
    "if p_val < alpha:\n",
    "    print(\"Reject the null hypothesis\")\n",
    "else:\n",
    "    print(\"Fail to reject the null hypothesis\")\n"
   ]
  },
  {
   "cell_type": "markdown",
   "id": "f4593b07",
   "metadata": {},
   "source": [
    "## ANOVA (Analysis of Variance)\n",
    "\n",
    "**Definition:**\n",
    "- ANOVA is a statistical method used to compare means of three or more samples to understand if at least one sample mean is significantly different from the others.\n",
    "\n",
    "**Use Case:**\n",
    "- ANOVA is used in marketing to compare the effectiveness of three or more advertising campaigns. It helps in identifying which campaign has the highest impact on sales."
   ]
  },
  {
   "cell_type": "code",
   "execution_count": null,
   "id": "77a3cfe7",
   "metadata": {},
   "outputs": [],
   "source": [
    "from scipy import stats\n",
    "\n",
    "# Sample data\n",
    "group1 = [2, 3, 5, 6, 9]\n",
    "group2 = [1, 4, 6, 8, 10]\n",
    "group3 = [2, 4, 6, 8, 10]\n",
    "\n",
    "# ANOVA\n",
    "f_stat, p_val = stats.f_oneway(group1, group2, group3)\n",
    "print(\"F-statistic:\", f_stat)\n",
    "print(\"P-value:\", p_val)\n",
    "\n",
    "# Decision\n",
    "alpha = 0.05\n",
    "if p_val < alpha:\n",
    "    print(\"Reject the null hypothesis\")\n",
    "else:\n",
    "    print(\"Fail to reject the null hypothesis\")\n"
   ]
  },
  {
   "cell_type": "markdown",
   "id": "79d45041",
   "metadata": {},
   "source": [
    "## Inferential Statistics\n",
    "\n",
    "**Definition:**\n",
    "- Inferential statistics involve making inferences about the population based on sample data. It includes estimating population parameters, testing hypotheses, and making predictions.\n",
    "\n",
    "**Use Case:**\n",
    "- Inferential statistics are used in public health to estimate the prevalence of a disease in a population based on a sample."
   ]
  },
  {
   "cell_type": "code",
   "execution_count": null,
   "id": "b2578420",
   "metadata": {},
   "outputs": [],
   "source": [
    "from scipy import stats\n",
    "import numpy as np\n",
    "\n",
    "# Sample data\n",
    "sample = [2, 3, 5, 6, 9, 1, 4, 6, 8, 10]\n",
    "\n",
    "# Confidence Interval for the mean\n",
    "confidence_level = 0.95\n",
    "degrees_freedom = len(sample) - 1\n",
    "sample_mean = np.mean(sample)\n",
    "sample_standard_error = stats.sem(sample)\n",
    "confidence_interval = stats.t.interval(confidence_level, degrees_freedom, sample_mean, sample_standard_error)\n",
    "\n",
    "print(\"Confidence Interval:\", confidence_interval)\n"
   ]
  }
 ],
 "metadata": {},
 "nbformat": 4,
 "nbformat_minor": 5
}
