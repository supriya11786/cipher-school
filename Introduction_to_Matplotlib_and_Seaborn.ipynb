{
 "cells": [
  {
   "cell_type": "markdown",
   "id": "33a57389",
   "metadata": {},
   "source": [
    "## Introduction to Matplotlib and Seaborn\n",
    "\n",
    "**Definition:**\n",
    "- **Matplotlib:** Matplotlib is a comprehensive library for creating static, animated, and interactive visualizations in Python. It provides an object-oriented API for embedding plots into applications using general-purpose GUI toolkits.\n",
    "- **Seaborn:** Seaborn is a Python data visualization library based on Matplotlib. It provides a high-level interface for drawing attractive and informative statistical graphics.\n",
    "\n",
    "**Use Case in Real Life:**\n",
    "- **Data Exploration:** Create various plots to visualize data distributions and relationships between variables during the exploratory data analysis (EDA) phase.\n",
    "- **Statistical Analysis:** Use visualizations to understand statistical properties of datasets, such as distribution plots, histograms, and pair plots to identify correlations and patterns.\n",
    "- **Business Reporting:** Generate business reports with visualizations that provide insights into sales performance, customer behavior, and market trends."
   ]
  },
  {
   "cell_type": "markdown",
   "id": "e6e9f278",
   "metadata": {},
   "source": [
    "### Creating a Simple Line Plot with Matplotlib"
   ]
  },
  {
   "cell_type": "code",
   "execution_count": null,
   "id": "835afd2f",
   "metadata": {},
   "outputs": [],
   "source": [
    "import matplotlib.pyplot as plt\n",
    "\n",
    "# Data\n",
    "x = [1, 2, 3, 4, 5]\n",
    "y = [2, 3, 5, 7, 11]\n",
    "\n",
    "# Creating a line plot\n",
    "plt.plot(x, y)\n",
    "plt.xlabel('X-axis')\n",
    "plt.ylabel('Y-axis')\n",
    "plt.title('Simple Line Plot')\n",
    "plt.show()"
   ]
  },
  {
   "cell_type": "markdown",
   "id": "ea012ed4",
   "metadata": {},
   "source": [
    "### Creating a Simple Scatter Plot with Matplotlib"
   ]
  },
  {
   "cell_type": "code",
   "execution_count": null,
   "id": "564ca23c",
   "metadata": {},
   "outputs": [],
   "source": [
    "# Data\n",
    "x = [1, 2, 3, 4, 5]\n",
    "y = [2, 3, 5, 7, 11]\n",
    "\n",
    "# Creating a scatter plot\n",
    "plt.scatter(x, y)\n",
    "plt.xlabel('X-axis')\n",
    "plt.ylabel('Y-axis')\n",
    "plt.title('Simple Scatter Plot')\n",
    "plt.show()"
   ]
  },
  {
   "cell_type": "markdown",
   "id": "6bd27df7",
   "metadata": {},
   "source": [
    "### Creating a Simple Bar Plot with Matplotlib"
   ]
  },
  {
   "cell_type": "code",
   "execution_count": null,
   "id": "2ca87941",
   "metadata": {},
   "outputs": [],
   "source": [
    "# Data\n",
    "categories = ['A', 'B', 'C', 'D']\n",
    "values = [4, 7, 1, 8]\n",
    "\n",
    "# Creating a bar plot\n",
    "plt.bar(categories, values)\n",
    "plt.xlabel('Categories')\n",
    "plt.ylabel('Values')\n",
    "plt.title('Simple Bar Plot')\n",
    "plt.show()"
   ]
  },
  {
   "cell_type": "markdown",
   "id": "fedfa6a4",
   "metadata": {},
   "source": [
    "### Creating a Simple Histogram with Matplotlib"
   ]
  },
  {
   "cell_type": "code",
   "execution_count": null,
   "id": "7ad03111",
   "metadata": {},
   "outputs": [],
   "source": [
    "# Data\n",
    "data = [1, 2, 2, 3, 3, 3, 4, 4, 4, 4]\n",
    "\n",
    "# Creating a histogram\n",
    "plt.hist(data, bins=4)\n",
    "plt.xlabel('Value')\n",
    "plt.ylabel('Frequency')\n",
    "plt.title('Simple Histogram')\n",
    "plt.show()"
   ]
  },
  {
   "cell_type": "markdown",
   "id": "a7df423b",
   "metadata": {},
   "source": [
    "### Creating Subplots with Matplotlib"
   ]
  },
  {
   "cell_type": "code",
   "execution_count": null,
   "id": "0d70b2e8",
   "metadata": {},
   "outputs": [],
   "source": [
    "# Data\n",
    "x = [1, 2, 3, 4, 5]\n",
    "y1 = [2, 3, 5, 7, 11]\n",
    "y2 = [1, 4, 6, 8, 10]\n",
    "\n",
    "# Creating subplots\n",
    "fig, axs = plt.subplots(2)\n",
    "axs[0].plot(x, y1)\n",
    "axs[0].set_title('First Plot')\n",
    "axs[1].plot(x, y2, 'tab:orange')\n",
    "axs[1].set_title('Second Plot')\n",
    "\n",
    "# Displaying the plot\n",
    "plt.tight_layout()\n",
    "plt.show()"
   ]
  },
  {
   "cell_type": "markdown",
   "id": "4b489251",
   "metadata": {},
   "source": [
    "### Adding Annotations with Matplotlib"
   ]
  },
  {
   "cell_type": "code",
   "execution_count": null,
   "id": "061cc28a",
   "metadata": {},
   "outputs": [],
   "source": [
    "# Data\n",
    "x = [1, 2, 3, 4, 5]\n",
    "y = [2, 3, 5, 7, 11]\n",
    "\n",
    "# Creating a plot with annotations\n",
    "plt.plot(x, y)\n",
    "plt.xlabel('X-axis')\n",
    "plt.ylabel('Y-axis')\n",
    "plt.title('Plot with Annotations')\n",
    "plt.annotate('Peak', xy=(5, 11), xytext=(4, 10),\n",
    "             arrowprops=dict(facecolor='black', shrink=0.05))\n",
    "plt.show()"
   ]
  },
  {
   "cell_type": "markdown",
   "id": "df1397a3",
   "metadata": {},
   "source": [
    "### Creating a Simple Line Plot with Seaborn"
   ]
  },
  {
   "cell_type": "code",
   "execution_count": null,
   "id": "6e12fac5",
   "metadata": {},
   "outputs": [],
   "source": [
    "import seaborn as sns\n",
    "import matplotlib.pyplot as plt\n",
    "\n",
    "# Data\n",
    "x = [1, 2, 3, 4, 5]\n",
    "y = [2, 3, 5, 7, 11]\n",
    "\n",
    "# Creating a line plot\n",
    "sns.lineplot(x=x, y=y)\n",
    "plt.xlabel('X-axis')\n",
    "plt.ylabel('Y-axis')\n",
    "plt.title('Simple Line Plot with Seaborn')\n",
    "plt.show()"
   ]
  },
  {
   "cell_type": "markdown",
   "id": "e8d663cd",
   "metadata": {},
   "source": [
    "### Creating a Simple Scatter Plot with Seaborn"
   ]
  },
  {
   "cell_type": "code",
   "execution_count": null,
   "id": "813ee7f0",
   "metadata": {},
   "outputs": [],
   "source": [
    "# Data\n",
    "x = [1, 2, 3, 4, 5]\n",
    "y = [2, 3, 5, 7, 11]\n",
    "\n",
    "# Creating a scatter plot\n",
    "sns.scatterplot(x=x, y=y)\n",
    "plt.xlabel('X-axis')\n",
    "plt.ylabel('Y-axis')\n",
    "plt.title('Simple Scatter Plot with Seaborn')\n",
    "plt.show()"
   ]
  },
  {
   "cell_type": "markdown",
   "id": "43c32940",
   "metadata": {},
   "source": [
    "### Creating a Simple Bar Plot with Seaborn"
   ]
  },
  {
   "cell_type": "code",
   "execution_count": null,
   "id": "751b75e1",
   "metadata": {},
   "outputs": [],
   "source": [
    "# Data\n",
    "categories = ['A', 'B', 'C', 'D']\n",
    "values = [4, 7, 1, 8]\n",
    "\n",
    "# Creating a bar plot\n",
    "sns.barplot(x=categories, y=values)\n",
    "plt.xlabel('Categories')\n",
    "plt.ylabel('Values')\n",
    "plt.title('Simple Bar Plot with Seaborn')\n",
    "plt.show()"
   ]
  },
  {
   "cell_type": "markdown",
   "id": "2b014efd",
   "metadata": {},
   "source": [
    "### Creating a Simple Histogram with Seaborn"
   ]
  },
  {
   "cell_type": "code",
   "execution_count": null,
   "id": "2cda2b34",
   "metadata": {},
   "outputs": [],
   "source": [
    "# Data\n",
    "data = [1, 2, 2, 3, 3, 3, 4, 4, 4, 4]\n",
    "\n",
    "# Creating a histogram\n",
    "sns.histplot(data, bins=4)\n",
    "plt.xlabel('Value')\n",
    "plt.ylabel('Frequency')\n",
    "plt.title('Simple Histogram with Seaborn')\n",
    "plt.show()"
   ]
  },
  {
   "cell_type": "markdown",
   "id": "a63bd6e4",
   "metadata": {},
   "source": [
    "### Creating a Pair Plot with Seaborn"
   ]
  },
  {
   "cell_type": "code",
   "execution_count": null,
   "id": "4a94db15",
   "metadata": {},
   "outputs": [],
   "source": [
    "import seaborn as sns\n",
    "import matplotlib.pyplot as plt\n",
    "from sklearn.datasets import load_iris\n",
    "\n",
    "iris = load_iris()\n",
    "iris_data = sns.load_dataset(\"iris\")\n",
    "\n",
    "# Creating a pair plot\n",
    "sns.pairplot(iris_data, hue='species')\n",
    "plt.title('Pair Plot with Seaborn')\n",
    "plt.show()"
   ]
  },
  {
   "cell_type": "markdown",
   "id": "35b625cd",
   "metadata": {},
   "source": [
    "### Creating a Heatmap with Seaborn"
   ]
  },
  {
   "cell_type": "code",
   "execution_count": null,
   "id": "78e2f7f4",
   "metadata": {},
   "outputs": [],
   "source": [
    "import numpy as np\n",
    "\n",
    "# Data\n",
    "data = np.random.rand(10, 12)\n",
    "sns.heatmap(data)\n",
    "plt.title('Heatmap with Seaborn')\n",
    "plt.show()"
   ]
  }
 ],
 "metadata": {},
 "nbformat": 4,
 "nbformat_minor": 5
}
